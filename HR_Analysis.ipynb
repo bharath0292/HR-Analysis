{
 "cells": [
  {
   "cell_type": "code",
   "execution_count": null,
   "id": "difficult-drama",
   "metadata": {
    "executionInfo": {
     "elapsed": 16516,
     "status": "ok",
     "timestamp": 1613633649993,
     "user": {
      "displayName": "Bharath GPU",
      "photoUrl": "",
      "userId": "14928614462613766496"
     },
     "user_tz": -330
    },
    "id": "difficult-drama"
   },
   "outputs": [],
   "source": [
    "import pandas as pd\n",
    "import numpy as np\n",
    "import seaborn as sns\n",
    "import matplotlib.pyplot as plt\n",
    "import missingno as msno\n",
    "from sklearn.model_selection import train_test_split\n",
    "from sklearn.preprocessing import StandardScaler\n",
    "from sklearn.ensemble import RandomForestClassifier\n",
    "from sklearn.model_selection import KFold \n",
    "from sklearn.metrics import accuracy_score\n",
    "from sklearn.metrics import precision_score\n",
    "from sklearn.metrics import recall_score\n",
    "from sklearn.metrics import f1_score\n",
    "from sklearn.metrics import confusion_matrix\n",
    "from sklearn.model_selection import RandomizedSearchCV\n",
    "from imblearn.over_sampling import SMOTE\n",
    "from sklearn.model_selection import RandomizedSearchCV\n",
    "\n",
    "\n",
    "import warnings\n",
    "warnings.filterwarnings('ignore')"
   ]
  },
  {
   "cell_type": "code",
   "execution_count": null,
   "id": "competent-experience",
   "metadata": {
    "executionInfo": {
     "elapsed": 16512,
     "status": "ok",
     "timestamp": 1613633649994,
     "user": {
      "displayName": "Bharath GPU",
      "photoUrl": "",
      "userId": "14928614462613766496"
     },
     "user_tz": -330
    },
    "id": "competent-experience"
   },
   "outputs": [],
   "source": [
    "#read the file\n",
    "dataset=pd.read_csv('train.csv')"
   ]
  },
  {
   "cell_type": "code",
   "execution_count": null,
   "id": "interracial-panic",
   "metadata": {
    "colab": {
     "base_uri": "https://localhost:8080/",
     "height": 284
    },
    "executionInfo": {
     "elapsed": 16504,
     "status": "ok",
     "timestamp": 1613633649995,
     "user": {
      "displayName": "Bharath GPU",
      "photoUrl": "",
      "userId": "14928614462613766496"
     },
     "user_tz": -330
    },
    "id": "interracial-panic",
    "outputId": "5c54e68e-d072-4b43-ae8f-f02c19031d0d"
   },
   "outputs": [],
   "source": [
    "dataset.head()"
   ]
  },
  {
   "cell_type": "code",
   "execution_count": null,
   "id": "offshore-approval",
   "metadata": {
    "colab": {
     "base_uri": "https://localhost:8080/",
     "height": 324
    },
    "executionInfo": {
     "elapsed": 16492,
     "status": "ok",
     "timestamp": 1613633649996,
     "user": {
      "displayName": "Bharath GPU",
      "photoUrl": "",
      "userId": "14928614462613766496"
     },
     "user_tz": -330
    },
    "id": "offshore-approval",
    "outputId": "1fc88e3b-f088-4e6e-c0e8-6e4ec58d2ae7"
   },
   "outputs": [],
   "source": [
    "dataset.describe()"
   ]
  },
  {
   "cell_type": "code",
   "execution_count": null,
   "id": "traditional-lease",
   "metadata": {
    "colab": {
     "base_uri": "https://localhost:8080/"
    },
    "executionInfo": {
     "elapsed": 16485,
     "status": "ok",
     "timestamp": 1613633649998,
     "user": {
      "displayName": "Bharath GPU",
      "photoUrl": "",
      "userId": "14928614462613766496"
     },
     "user_tz": -330
    },
    "id": "traditional-lease",
    "outputId": "bde9f222-af22-4f8d-9993-abc5d622ca36"
   },
   "outputs": [],
   "source": [
    "dataset.isnull().sum()"
   ]
  },
  {
   "cell_type": "code",
   "execution_count": null,
   "id": "active-milton",
   "metadata": {
    "colab": {
     "base_uri": "https://localhost:8080/",
     "height": 602
    },
    "executionInfo": {
     "elapsed": 17608,
     "status": "ok",
     "timestamp": 1613633651131,
     "user": {
      "displayName": "Bharath GPU",
      "photoUrl": "",
      "userId": "14928614462613766496"
     },
     "user_tz": -330
    },
    "id": "active-milton",
    "outputId": "3cd1a595-6248-4561-d3f9-407903cb10e9"
   },
   "outputs": [],
   "source": [
    "msno.bar(dataset) "
   ]
  },
  {
   "cell_type": "code",
   "execution_count": null,
   "id": "authorized-collapse",
   "metadata": {
    "executionInfo": {
     "elapsed": 17598,
     "status": "ok",
     "timestamp": 1613633651137,
     "user": {
      "displayName": "Bharath GPU",
      "photoUrl": "",
      "userId": "14928614462613766496"
     },
     "user_tz": -330
    },
    "id": "authorized-collapse"
   },
   "outputs": [],
   "source": [
    "#droping employee ID column\n",
    "dataset=dataset.drop('employee_id',axis=1)"
   ]
  },
  {
   "cell_type": "code",
   "execution_count": null,
   "id": "confident-masters",
   "metadata": {
    "colab": {
     "base_uri": "https://localhost:8080/",
     "height": 1000
    },
    "executionInfo": {
     "elapsed": 19630,
     "status": "ok",
     "timestamp": 1613633653177,
     "user": {
      "displayName": "Bharath GPU",
      "photoUrl": "",
      "userId": "14928614462613766496"
     },
     "user_tz": -330
    },
    "id": "confident-masters",
    "outputId": "b7c5a9d2-940f-44a2-9349-c96df021a8e8"
   },
   "outputs": [],
   "source": [
    "#univariate analysis\n",
    "dataset.hist(edgecolor='black', linewidth=1.2, figsize=(20, 20),);"
   ]
  },
  {
   "cell_type": "code",
   "execution_count": null,
   "id": "greenhouse-serum",
   "metadata": {
    "colab": {
     "base_uri": "https://localhost:8080/",
     "height": 707
    },
    "executionInfo": {
     "elapsed": 20412,
     "status": "ok",
     "timestamp": 1613633653967,
     "user": {
      "displayName": "Bharath GPU",
      "photoUrl": "",
      "userId": "14928614462613766496"
     },
     "user_tz": -330
    },
    "id": "greenhouse-serum",
    "outputId": "3999c092-9af2-4e72-9973-8515b3bc3cdb"
   },
   "outputs": [],
   "source": [
    "plt.figure(figsize=(10, 10))\n",
    "sns.heatmap(dataset.corr(), annot=True)"
   ]
  },
  {
   "cell_type": "code",
   "execution_count": null,
   "id": "sharp-bicycle",
   "metadata": {
    "executionInfo": {
     "elapsed": 20407,
     "status": "ok",
     "timestamp": 1613633653970,
     "user": {
      "displayName": "Bharath GPU",
      "photoUrl": "",
      "userId": "14928614462613766496"
     },
     "user_tz": -330
    },
    "id": "sharp-bicycle"
   },
   "outputs": [],
   "source": [
    "dataset['education']=dataset['education'].fillna('Blank')"
   ]
  },
  {
   "cell_type": "code",
   "execution_count": null,
   "id": "advanced-agency",
   "metadata": {
    "colab": {
     "base_uri": "https://localhost:8080/",
     "height": 1000
    },
    "executionInfo": {
     "elapsed": 21144,
     "status": "ok",
     "timestamp": 1613633654712,
     "user": {
      "displayName": "Bharath GPU",
      "photoUrl": "",
      "userId": "14928614462613766496"
     },
     "user_tz": -330
    },
    "id": "advanced-agency",
    "outputId": "c18fcfa3-0c97-47bc-9a5e-db03357a0703"
   },
   "outputs": [],
   "source": [
    "for col in dataset.columns:\n",
    "    if dataset[col].dtype=='O':\n",
    "        plt.subplots(figsize=(10,5))\n",
    "        sns.countplot(x=dataset[col])\n",
    "        plt.title(col, fontsize = 20)\n",
    "        plt.xticks(rotation = 60)\n",
    "        plt.xlabel(col)\n",
    "        plt.ylabel('count')\n",
    "        plt.show()"
   ]
  },
  {
   "cell_type": "code",
   "execution_count": null,
   "id": "prerequisite-deviation",
   "metadata": {
    "colab": {
     "base_uri": "https://localhost:8080/",
     "height": 1000
    },
    "executionInfo": {
     "elapsed": 25595,
     "status": "ok",
     "timestamp": 1613633659170,
     "user": {
      "displayName": "Bharath GPU",
      "photoUrl": "",
      "userId": "14928614462613766496"
     },
     "user_tz": -330
    },
    "id": "prerequisite-deviation",
    "outputId": "1b9151a7-30ae-45a6-96f3-a3a675e658a0"
   },
   "outputs": [],
   "source": [
    "#bivariate analysis\n",
    "for col in dataset.columns:\n",
    "    data=pd.crosstab(dataset[col], dataset['is_promoted'])\n",
    "\n",
    "    data.div(data.sum(1).astype(float), axis = 0).plot(kind = 'bar', stacked = True, figsize = (20, 5))\n",
    "\n",
    "    plt.title('Looking at the Dependency of ' + col+ ' in promotion', fontsize = 30)\n",
    "    plt.xlabel('Average ' + col +' Scores', fontsize = 15)\n",
    "    plt.legend()\n",
    "    plt.show()"
   ]
  },
  {
   "cell_type": "code",
   "execution_count": null,
   "id": "christian-genome",
   "metadata": {
    "colab": {
     "base_uri": "https://localhost:8080/"
    },
    "executionInfo": {
     "elapsed": 28277,
     "status": "ok",
     "timestamp": 1613633661859,
     "user": {
      "displayName": "Bharath GPU",
      "photoUrl": "",
      "userId": "14928614462613766496"
     },
     "user_tz": -330
    },
    "id": "christian-genome",
    "outputId": "3c98307f-176c-4465-c445-f262c29d935d"
   },
   "outputs": [],
   "source": [
    "#handling missing value by fill 1 or 3\n",
    "for i in range(len(dataset)):\n",
    "    if dataset['is_promoted'].iloc[i]==1 and np.isnan(dataset['previous_year_rating'].iloc[i]):\n",
    "        dataset['previous_year_rating'].iloc[i]=1\n",
    "    elif dataset['is_promoted'].iloc[i]==0 and np.isnan(dataset['previous_year_rating'].iloc[i]):\n",
    "        dataset['previous_year_rating'].iloc[i]=3\n",
    "        \n",
    "dataset['education'].fillna(dataset['education'].mode()[0],inplace=True)\n",
    "\n",
    "dataset.isna().sum()"
   ]
  },
  {
   "cell_type": "code",
   "execution_count": null,
   "id": "random-polyester",
   "metadata": {
    "colab": {
     "base_uri": "https://localhost:8080/"
    },
    "executionInfo": {
     "elapsed": 28268,
     "status": "ok",
     "timestamp": 1613633661860,
     "user": {
      "displayName": "Bharath GPU",
      "photoUrl": "",
      "userId": "14928614462613766496"
     },
     "user_tz": -330
    },
    "id": "random-polyester",
    "outputId": "145513b9-b485-49ec-9d83-6debb2ea0f93"
   },
   "outputs": [],
   "source": [
    "#seperating label & feature\n",
    "x = dataset.iloc[:, :-1]\n",
    "y = dataset.iloc[:, -1]\n",
    "\n",
    "print(\"Shape of x:\", x.shape)\n",
    "print(\"Shape of y:\", y.shape)"
   ]
  },
  {
   "cell_type": "code",
   "execution_count": null,
   "id": "affiliated-calcium",
   "metadata": {
    "executionInfo": {
     "elapsed": 28257,
     "status": "ok",
     "timestamp": 1613633661862,
     "user": {
      "displayName": "Bharath GPU",
      "photoUrl": "",
      "userId": "14928614462613766496"
     },
     "user_tz": -330
    },
    "id": "affiliated-calcium"
   },
   "outputs": [],
   "source": [
    "#frequency encoding\n",
    "x['department']=x['department'].map(x['department'].value_counts()/x['department'].value_counts().sum())\n",
    "x['region']=x['region'].map(x['region'].value_counts()/x['region'].value_counts().sum())\n",
    "x['education']=x['education'].map(x['education'].value_counts()/x['education'].value_counts().sum())\n",
    "x['recruitment_channel']=x['recruitment_channel'].map(x['recruitment_channel'].value_counts()/x['recruitment_channel'].value_counts().sum())\n",
    "\n",
    "#categorical encoding\n",
    "gender={'m':1,'f':0}\n",
    "x['gender']=x['gender'].map(gender)"
   ]
  },
  {
   "cell_type": "code",
   "execution_count": null,
   "id": "ethical-precipitation",
   "metadata": {
    "colab": {
     "base_uri": "https://localhost:8080/"
    },
    "executionInfo": {
     "elapsed": 28250,
     "status": "ok",
     "timestamp": 1613633661863,
     "user": {
      "displayName": "Bharath GPU",
      "photoUrl": "",
      "userId": "14928614462613766496"
     },
     "user_tz": -330
    },
    "id": "ethical-precipitation",
    "outputId": "7eb8d989-7e66-44cd-dbb2-cf3b81163815"
   },
   "outputs": [],
   "source": [
    "#SMOTE Oversampling\n",
    "\n",
    "x_sample, y_sample = SMOTE().fit_sample(x, y.values.ravel())\n",
    "\n",
    "x_sample = pd.DataFrame(x_sample)\n",
    "y_sample = pd.DataFrame(y_sample)\n",
    "\n",
    "# checking the sizes of the sample data\n",
    "print(\"Size of x-sample :\", x_sample.shape)\n",
    "print(\"Size of y-sample :\", y_sample.shape)"
   ]
  },
  {
   "cell_type": "code",
   "execution_count": null,
   "id": "scheduled-citizenship",
   "metadata": {
    "executionInfo": {
     "elapsed": 28713,
     "status": "ok",
     "timestamp": 1613633662337,
     "user": {
      "displayName": "Bharath GPU",
      "photoUrl": "",
      "userId": "14928614462613766496"
     },
     "user_tz": -330
    },
    "id": "scheduled-citizenship"
   },
   "outputs": [],
   "source": [
    "#feauture engineering\n",
    "sc = StandardScaler()\n",
    "x_sample = sc.fit_transform(x_sample)\n",
    "x_sample = pd.DataFrame(x_sample)\n",
    "y_sample = pd.DataFrame(y_sample)"
   ]
  },
  {
   "cell_type": "code",
   "execution_count": null,
   "id": "offshore-vinyl",
   "metadata": {
    "colab": {
     "base_uri": "https://localhost:8080/"
    },
    "executionInfo": {
     "elapsed": 28708,
     "status": "ok",
     "timestamp": 1613633662338,
     "user": {
      "displayName": "Bharath GPU",
      "photoUrl": "",
      "userId": "14928614462613766496"
     },
     "user_tz": -330
    },
    "id": "offshore-vinyl",
    "outputId": "ea791d0f-1422-4fbc-d3c5-52aee3f33dc2"
   },
   "outputs": [],
   "source": [
    "##Initializing arguments for hyperparameter tuning\n",
    "\n",
    "# Number of trees in random forest\n",
    "n_estimators = [int(x) for x in np.linspace(start = 200, stop = 2000, num = 10)]\n",
    "\n",
    "# Number of features to consider at every split\n",
    "max_features = ['auto', 'sqrt']\n",
    "\n",
    "# Maximum number of levels in tree\n",
    "max_depth = [int(x) for x in np.linspace(10, 110, num = 11)]\n",
    "max_depth.append(None)\n",
    "\n",
    "# Minimum number of samples required to split a node\n",
    "min_samples_split = [2, 5, 10]\n",
    "\n",
    "# Minimum number of samples required at each leaf node\n",
    "min_samples_leaf = [1, 2, 4]\n",
    "\n",
    "# Method of selecting samples for training each tree\n",
    "bootstrap = [True, False]\n",
    "\n",
    "# Create the random grid\n",
    "random_grid = {'n_estimators': n_estimators,\n",
    "               'max_features': max_features,\n",
    "               'max_depth': max_depth,\n",
    "               'min_samples_split': min_samples_split,\n",
    "               'min_samples_leaf': min_samples_leaf,\n",
    "               'bootstrap': bootstrap}\n",
    "print(random_grid)\n",
    "{'bootstrap': [True, False],\n",
    " 'max_depth': [10, 20, 30, 40, 50, 60, 70, 80, 90, 100, None],\n",
    " 'max_features': ['auto', 'sqrt'],\n",
    " 'min_samples_leaf': [1, 2, 4],\n",
    " 'min_samples_split': [2, 5, 10],\n",
    " 'n_estimators': [200, 400, 600, 800, 1000, 1200, 1400, 1600, 1800, 2000]}"
   ]
  },
  {
   "cell_type": "code",
   "execution_count": null,
   "id": "anticipated-halifax",
   "metadata": {
    "colab": {
     "base_uri": "https://localhost:8080/",
     "height": 405
    },
    "executionInfo": {
     "elapsed": 42375,
     "status": "error",
     "timestamp": 1613633676013,
     "user": {
      "displayName": "Bharath GPU",
      "photoUrl": "",
      "userId": "14928614462613766496"
     },
     "user_tz": -330
    },
    "id": "anticipated-halifax",
    "outputId": "05891c27-f7ff-4d5b-b67d-50c0e76cb1bc"
   },
   "outputs": [],
   "source": [
    "rf = RandomForestClassifier()\n",
    "\n",
    "rf_random = RandomizedSearchCV(estimator = rf, param_distributions = random_grid, n_iter = 100, cv = 3, verbose=2, random_state=42, n_jobs = -1)\n",
    "\n",
    "rf_random.fit(x_sample, y_sample)"
   ]
  },
  {
   "cell_type": "code",
   "execution_count": null,
   "id": "future-holmes",
   "metadata": {
    "colab": {
     "base_uri": "https://localhost:8080/",
     "height": 167
    },
    "executionInfo": {
     "elapsed": 1000,
     "status": "error",
     "timestamp": 1613633703497,
     "user": {
      "displayName": "Bharath GPU",
      "photoUrl": "",
      "userId": "14928614462613766496"
     },
     "user_tz": -330
    },
    "id": "future-holmes",
    "outputId": "b8ebc56c-0f99-48e6-cb1f-0fb0b5d3e9b3"
   },
   "outputs": [],
   "source": [
    "#get best params\n",
    "rf_random.best_params_"
   ]
  },
  {
   "cell_type": "code",
   "execution_count": null,
   "id": "W8a9y5wV5PaL",
   "metadata": {
    "executionInfo": {
     "elapsed": 42346,
     "status": "aborted",
     "timestamp": 1613633675999,
     "user": {
      "displayName": "Bharath GPU",
      "photoUrl": "",
      "userId": "14928614462613766496"
     },
     "user_tz": -330
    },
    "id": "W8a9y5wV5PaL"
   },
   "outputs": [],
   "source": [
    "#model creation usin cross validation\n",
    "\n",
    "rf_acc=[]\n",
    "rf_pre=[]\n",
    "rf_rec=[]\n",
    "rf_f1=[]\n",
    "\n",
    "kf=KFold(n_splits=5,shuffle=True)\n",
    "\n",
    "for i,(train_index,test_index) in enumerate(kf.split(x_sample)):\n",
    "        \n",
    "    f_train, l_train = x_sample.iloc[train_index,:], y_sample.iloc[train_index] \n",
    "    f_test, l_test   = x_sample.iloc[test_index,:], y_sample.iloc[test_index]\n",
    "    \n",
    "    print('\\nFold : {}\\n'.format(i+1))\n",
    "\n",
    "    rf = RandomForestClassifier(bootstrap=False,max_depth= None,max_features= 'auto',min_samples_leaf= 2,min_samples_split= 10,n_estimators= 800)\n",
    "    rf.fit(f_train, l_train)\n",
    "    \n",
    "    predicted=rf.predict(f_test)\n",
    "    \n",
    "    accuracy = accuracy_score(l_test,predicted)*100\n",
    "    precision=precision_score(l_test,predicted)*100\n",
    "    recall=recall_score(l_test,predicted)*100\n",
    "    F1_Score=f1_score(l_test,predicted)*100\n",
    "    \n",
    "    rf_acc.append(accuracy)\n",
    "    rf_pre.append(precision)\n",
    "    rf_rec.append(recall)\n",
    "    rf_f1.append(F1_Score)\n",
    "    \n",
    "    print(\"accuracy : \",accuracy)\n",
    "    print(\"Precision : \",precision)\n",
    "    print(\"Recall : \",recall)\n",
    "    print(\"F1_Score : \",F1_Score)\n",
    "    \n",
    "    \n",
    "    \n",
    "print('\\nRandomForest mean accuracy score: {}'.format((sum(rf_acc)/5)))\n",
    "print('\\nRandomForest mean precision score: {}'.format((sum(rf_pre)/5)))\n",
    "print('\\nRandomForest mean recall score: {}'.format((sum(rf_rec)/5)))\n",
    "print('\\nRandomForest mean f1_score score: {}'.format((sum(rf_f1)/5)))"
   ]
  },
  {
   "cell_type": "markdown",
   "id": "micro-tomorrow",
   "metadata": {
    "executionInfo": {
     "elapsed": 42344,
     "status": "aborted",
     "timestamp": 1613633676000,
     "user": {
      "displayName": "Bharath GPU",
      "photoUrl": "",
      "userId": "14928614462613766496"
     },
     "user_tz": -330
    },
    "id": "bBZlMB6f5PYM"
   },
   "source": [
    "## Real Time we will automate all the process for prediction.We need to give the input in UI rest all will done by internally and give the prediction"
   ]
  },
  {
   "cell_type": "code",
   "execution_count": null,
   "id": "fundamental-tuning",
   "metadata": {},
   "outputs": [],
   "source": [
    "val=[[-0.598339,-0.426224,-2.069922,-1.279600,-0.497856,-0.406918,-1.553476,1.186247,-0.920257,1.008055,4.439484,1.602237]]\n",
    "rf.predict(val)"
   ]
  }
 ],
 "metadata": {
  "colab": {
   "collapsed_sections": [],
   "machine_shape": "hm",
   "name": "HR_Analysis.ipynb",
   "provenance": []
  },
  "kernelspec": {
   "display_name": "Python 3",
   "language": "python",
   "name": "python3"
  },
  "language_info": {
   "codemirror_mode": {
    "name": "ipython",
    "version": 3
   },
   "file_extension": ".py",
   "mimetype": "text/x-python",
   "name": "python",
   "nbconvert_exporter": "python",
   "pygments_lexer": "ipython3",
   "version": "3.6.9"
  }
 },
 "nbformat": 4,
 "nbformat_minor": 5
}
